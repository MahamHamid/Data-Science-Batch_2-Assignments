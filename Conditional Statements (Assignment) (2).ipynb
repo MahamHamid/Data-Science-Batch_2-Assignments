{
 "cells": [
  {
   "cell_type": "markdown",
   "metadata": {},
   "source": [
    "1) A company decided to give bonus of 5% to employee if his/her year of service is more than 5 years.\n",
    "Ask user for their salary and year of service and print the net bonus amount."
   ]
  },
  {
   "cell_type": "code",
   "execution_count": 1,
   "metadata": {},
   "outputs": [
    {
     "name": "stdin",
     "output_type": "stream",
     "text": [
      "Enter your salary:  900000\n",
      "years of service:  7\n"
     ]
    },
    {
     "name": "stdout",
     "output_type": "stream",
     "text": [
      "Your bonus is 45000.0\n"
     ]
    }
   ],
   "source": [
    "#Type your code here\n",
    "salary = int(input(\"Enter your salary: \"))\n",
    "yos = int(input(\"years of service: \"))\n",
    "\n",
    "b = 5/100\n",
    "bonus =  b*salary\n",
    "if yos > 5:\n",
    "    print(f'Your bonus is {bonus}')\n",
    "else:\n",
    "    print(\"you dont have a bonus this year\")"
   ]
  },
  {
   "cell_type": "markdown",
   "metadata": {},
   "source": [
    "\n",
    "2) Write a program to check whether a person is eligible for voting or not. (accept age from user) if age is greater than 17 eligible otherwise not eligible"
   ]
  },
  {
   "cell_type": "code",
   "execution_count": 7,
   "metadata": {},
   "outputs": [],
   "source": [
    "#Type your code here\n",
    "\n",
    "age = int(input(\"Enter your age: \"))\n",
    "\n",
    "if age >= 18:\n",
    "    print(\"You are eligible for voting.\")\n",
    "else:\n",
    "    print(\"You are not eligible for voting.\")\n"
   ]
  },
  {
   "cell_type": "markdown",
   "metadata": {},
   "source": [
    "\n",
    "3) Write a program to check whether a number entered by user is even or odd."
   ]
  },
  {
   "cell_type": "code",
   "execution_count": 8,
   "metadata": {},
   "outputs": [],
   "source": [
    "#Type your code here\n",
    "number = int(input(\"Enter a number: \"))\n",
    "\n",
    "if number % 2 == 0:\n",
    "    print(f'The number {number} is even.')\n",
    "else:\n",
    "    print(f'The number {number} is odd.')\n"
   ]
  },
  {
   "cell_type": "markdown",
   "metadata": {},
   "source": [
    "4) Write a program to check whether a number is divisible by 7 or not.\n",
    "Show Answer"
   ]
  },
  {
   "cell_type": "code",
   "execution_count": 6,
   "metadata": {},
   "outputs": [
    {
     "name": "stdin",
     "output_type": "stream",
     "text": [
      "Enter any no:  77\n"
     ]
    },
    {
     "name": "stdout",
     "output_type": "stream",
     "text": [
      "The no is divisible 7\n"
     ]
    }
   ],
   "source": [
    "#Type your code here\n",
    "n= int(input(\"Enter any no: \"))\n",
    "if n%7 == 0:\n",
    "    print(\"The no is divisible 7\")\n",
    "else:\n",
    "    print(\"The no is not divisible 7\")"
   ]
  },
  {
   "cell_type": "markdown",
   "metadata": {},
   "source": [
    "5) Write a program to display \n",
    "\"Hello\" if a number entered by user is a multiple of five , otherwise print \"Bye\"."
   ]
  },
  {
   "cell_type": "code",
   "execution_count": 11,
   "metadata": {},
   "outputs": [],
   "source": [
    "#Type your code here\n",
    "n= int(input(\"Enter any no: \"))\n",
    "if n%5 == 0:\n",
    "    print(\"Hello\")\n",
    "else:\n",
    "    print(\"Bye\")"
   ]
  },
  {
   "cell_type": "markdown",
   "metadata": {},
   "source": [
    "7) Write a program to display the last digit of a number.\n"
   ]
  },
  {
   "cell_type": "code",
   "execution_count": 12,
   "metadata": {},
   "outputs": [],
   "source": [
    "#Type your code here\n",
    "n = input(\"Enter any number \")\n",
    "m = len(n)\n",
    "for i in n:\n",
    "    if i == n[m-1]:\n",
    "        print(i)\n"
   ]
  },
  {
   "cell_type": "markdown",
   "metadata": {},
   "source": [
    "9) Take values of length and breadth of a rectangle from user and print if it is square or rectangle."
   ]
  },
  {
   "cell_type": "code",
   "execution_count": 7,
   "metadata": {},
   "outputs": [
    {
     "name": "stdin",
     "output_type": "stream",
     "text": [
      "Enter the length:  12\n",
      "Enter the breadth:  12\n"
     ]
    },
    {
     "name": "stdout",
     "output_type": "stream",
     "text": [
      "It's a square\n"
     ]
    }
   ],
   "source": [
    "#Type your code here \n",
    "length = int(input(\"Enter the length: \"))\n",
    "breadth = int(input(\"Enter the breadth: \"))\n",
    "if length == breadth:\n",
    "    print(\"It's a Square\")\n",
    "else:\n",
    "    print(\"It's a Rectangle\")\n"
   ]
  },
  {
   "cell_type": "markdown",
   "metadata": {},
   "source": [
    "10) Take two int values from user and print greatest among them."
   ]
  },
  {
   "cell_type": "code",
   "execution_count": 15,
   "metadata": {},
   "outputs": [],
   "source": [
    "# Type your code here\n",
    "\n",
    "a = int(input(\"enter any value: \"))\n",
    "b = int(input(\"enter any value: \"))\n",
    "if a > b:\n",
    "    print(f'{a} is greater than {b}')\n",
    "elif b > a:\n",
    "    print(f'{b} is greater than {a}')\n",
    "else:\n",
    "    print(\"invalid value\")"
   ]
  },
  {
   "cell_type": "markdown",
   "metadata": {},
   "source": [
    "11) A shop will give discount of 10% if the cost of purchased quantity is more than 1000.\n",
    "Ask user for quantity\n",
    "Suppose, one unit will cost 100.\n",
    "Judge and print total cost for user."
   ]
  },
  {
   "cell_type": "code",
   "execution_count": 16,
   "metadata": {},
   "outputs": [],
   "source": [
    "#Type your code here\n",
    "n = int(input(\"Enter Quantity: \"))\n",
    "q_c = 100\n",
    "t_cost = 100*n\n",
    "disc = 10/100\n",
    "if t_cost >= 1000:\n",
    "    discount = t_cost*disc\n",
    "    dis_cost = t_cost - discount\n",
    "    print(f'you got a 10% discount, you have to pay {dis_cost}$')\n",
    "else:\n",
    "    print(f'no discount, you have to pay the total amount which is {t_cost}')\n"
   ]
  },
  {
   "cell_type": "markdown",
   "metadata": {},
   "source": [
    "12) A school has following rules for grading system:\n",
    "\n",
    "a. Below 25 - F\n",
    "\n",
    "b. 25 to 45 - E\n",
    "\n",
    "c. 45 to 50 - D\n",
    "\n",
    "d. 50 to 60 - C\n",
    "\n",
    "e. 60 to 80 - B\n",
    "\n",
    "f. Above 80 - A\n",
    "\n",
    "Ask user to enter marks and print the corresponding grade."
   ]
  },
  {
   "cell_type": "code",
   "execution_count": 2,
   "metadata": {},
   "outputs": [],
   "source": [
    "#Type your code here\n",
    "marks = int(input(\"enter you marks: \"))\n",
    "if marks >= 80:\n",
    "    print(f'With {marks} marks, you got A grade')\n",
    "elif marks >= 60 and marks < 80:\n",
    "    print(f'With {marks} marks, you got B grade')\n",
    "elif marks >= 50 and marks < 60:\n",
    "    print(f'With {marks} marks, you got C grade')\n",
    "elif marks >= 45 and marks < 50:\n",
    "    print(f'With {marks} marks, you got D grade')\n",
    "elif marks >= 25 and marks < 45:\n",
    "    print(f'With {marks} marks, you got E grade')\n",
    "elif marks < 25:\n",
    "    print(f'With {marks} marks, you got F grade')\n",
    "else:\n",
    "    print('\"ERROR\", enter your marks again')"
   ]
  },
  {
   "cell_type": "markdown",
   "metadata": {},
   "source": [
    "14)A student will not be allowed to sit in exam if his/her attendence is less than 75%.\n",
    "\n",
    "Take following input from user\n",
    "\n",
    "Number of classes held\n",
    "\n",
    "Number of classes attended.\n",
    "\n",
    "And print\n",
    "\n",
    "percentage of class attended\n",
    "\n",
    "Is student is allowed to sit in exam or not.\n"
   ]
  },
  {
   "cell_type": "code",
   "execution_count": 13,
   "metadata": {},
   "outputs": [
    {
     "name": "stdin",
     "output_type": "stream",
     "text": [
      "Enter No of Classes you've attendend:  56\n"
     ]
    },
    {
     "name": "stdout",
     "output_type": "stream",
     "text": [
      "With 50.90909090909091% attendance, you are not allowed to sit in exams\n"
     ]
    }
   ],
   "source": [
    "#Type your code here\n",
    "class_attended = int(input(\"Enter No of Classes you've attendend: \"))\n",
    "class_held =110\n",
    "percent = (class_attended/class_held)*100\n",
    "if percent >= 75:\n",
    "    print(f'With {percent}% attendance, you are allowed to sit in exams')\n",
    "else: \n",
    "    print(f'With {percent}% attendance, you are not allowed to sit in exams')"
   ]
  },
  {
   "cell_type": "markdown",
   "metadata": {},
   "source": [
    "15) Modify the above question to allow student to sit if he/she has medical cause. Ask user if he/she has medical cause or not ( 'Y' or 'N' ) and print accordingly."
   ]
  },
  {
   "cell_type": "code",
   "execution_count": 17,
   "metadata": {},
   "outputs": [
    {
     "name": "stdin",
     "output_type": "stream",
     "text": [
      "Enter No of Classes you've attendend:  34\n",
      "Do you have any medical issues yes\n"
     ]
    },
    {
     "name": "stdout",
     "output_type": "stream",
     "text": [
      "With 30.909090909090907% attendance, you are not allowed to sit in exams\n"
     ]
    }
   ],
   "source": [
    "#Type your code here\n",
    "class_attended = int(input(\"Enter No of Classes you've attendend: \"))\n",
    "m = input(\"Do you have any medical issues\")\n",
    "class_held =110\n",
    "percent = (class_attended/class_held)*100\n",
    "if percent >= 75 or m.lower == \"yes\":\n",
    "    print(f'With {percent}% attendance, you are allowed to sit in exams')\n",
    "else: \n",
    "    print(f'With {percent}% attendance, you are not allowed to sit in exams')"
   ]
  },
  {
   "cell_type": "markdown",
   "metadata": {},
   "source": [
    "16) Write a program to check if a year is leap year or not.\n",
    "\n",
    "If a year is divisible by 4 then it is leap year but if the year is century year like 2000, 1900, 2100 then it must be divisible by 400."
   ]
  },
  {
   "cell_type": "code",
   "execution_count": 21,
   "metadata": {},
   "outputs": [
    {
     "name": "stdin",
     "output_type": "stream",
     "text": [
      "Enter any year:  2014\n"
     ]
    },
    {
     "name": "stdout",
     "output_type": "stream",
     "text": [
      "Not a Leap Year\n"
     ]
    }
   ],
   "source": [
    "#Type your code here\n",
    "year = int(input(\"Enter any year: \"))\n",
    "if (year%400 == 0) or (year%4==0 and year%100!=0):\n",
    "    print(\"Leap Year\")\n",
    "else:\n",
    "    print(\"Not a Leap Year\")"
   ]
  },
  {
   "cell_type": "markdown",
   "metadata": {},
   "source": [
    "17) Ask user to enter age, gender ( M or F ), marital status ( Y or N ) and then using following rules print their place of service.\n",
    "\n",
    "if employee is female, then she will work only in urban areas.\n",
    "\n",
    "if employee is a male and age is in between 20 to 40 then he may work in anywhere\n",
    "\n",
    "if employee is male and age is in between 40 t0 60 then he will work in urban areas only.\n",
    "\n",
    "And any other input of age should print \"ERROR\""
   ]
  },
  {
   "cell_type": "code",
   "execution_count": null,
   "metadata": {},
   "outputs": [],
   "source": [
    "age = int(input(\"Enter age: \"))\n",
    "gender = input(\"Enter gender : \")\n",
    "m_status = input(\"Enter marital status: \")\n",
    "\n",
    "if gender.lower() == 'female':\n",
    "    print(\"Place of service: Urban areas\")\n",
    "elif gender.lower() == 'male' and  20 <= age <= 40:\n",
    "    print(\"Place of service: Anywhere\")\n",
    "elif gender.lower() == 'male' and  40 <= age <= 60:\n",
    "    print(\"Place of service: Urban areas\")\n",
    "else:\n",
    "    print(\"ERROR\")\n",
    "\n"
   ]
  },
  {
   "cell_type": "markdown",
   "metadata": {},
   "source": [
    "6) Write a program to calculate the electricity bill (accept number of unit from user) according to the following criteria :\n",
    "     Unit                                                     Price  \n",
    "uptp 100 units                                             no charge\n",
    "Next 200 units                                              Rs 5 per unit\n",
    "After 200 units                                             Rs 10 per unit\n",
    "(For example if input unit is 350 than total bill amount is Rs.3500\n",
    "(For example if input unit is 97 than total bill amount is Rs.0\n",
    "(For example if input unit is 150 than total bill amount is Rs.750"
   ]
  },
  {
   "cell_type": "code",
   "execution_count": null,
   "metadata": {},
   "outputs": [],
   "source": [
    "units = int(input(\"Enter any number \"))\n",
    "if units <= 100:\n",
    "    bill_amount = 0\n",
    "    print(\"Your bill amount is \",bill_amount)\n",
    "elif units <= 200:\n",
    "    bill_amount = (units) * 5\n",
    "    print(\"Your bill amount is \",bill_amount))\n",
    "elif units >= 200:\n",
    "    bill_amount = (units)* 10\n",
    "    print(\"Your bill amount is \",bill_amount)\n",
    "else:\n",
    "    print(\"error\")"
   ]
  },
  {
   "cell_type": "markdown",
   "metadata": {},
   "source": [
    "13) Take input of age of 3 people by user and determine oldest and youngest among them."
   ]
  },
  {
   "cell_type": "code",
   "execution_count": 6,
   "metadata": {},
   "outputs": [
    {
     "name": "stdin",
     "output_type": "stream",
     "text": [
      "Enter your age 12\n",
      "Enter your age 14\n",
      "Enter your age 11\n"
     ]
    },
    {
     "name": "stdout",
     "output_type": "stream",
     "text": [
      "14 is the oldest\n",
      "11 is the youngest\n"
     ]
    }
   ],
   "source": [
    "#Type your code here\n",
    "a = int(input(\"Enter your age\"))\n",
    "b = int(input(\"Enter your age\"))\n",
    "c = int(input(\"Enter your age\"))\n",
    "\n",
    "if a>b and a>c:\n",
    "    print(f'{a} is the oldest')\n",
    "elif b>a and b>c:\n",
    "    print(f'{b} is the oldest')\n",
    "elif c>a and c>b:\n",
    "    print(f'{c} is the oldest')\n",
    "\n",
    "if a<b and a<c:\n",
    "    print(f'{a} is the youngest')\n",
    "elif b<a and b<c:\n",
    "    print(f'{b} is the youngest')\n",
    "elif c<a and c<b:\n",
    "    print(f'{c} is the youngest')\n"
   ]
  }
 ],
 "metadata": {
  "kernelspec": {
   "display_name": "Python 3 (ipykernel)",
   "language": "python",
   "name": "python3"
  },
  "language_info": {
   "codemirror_mode": {
    "name": "ipython",
    "version": 3
   },
   "file_extension": ".py",
   "mimetype": "text/x-python",
   "name": "python",
   "nbconvert_exporter": "python",
   "pygments_lexer": "ipython3",
   "version": "3.11.7"
  }
 },
 "nbformat": 4,
 "nbformat_minor": 4
}
