{
 "cells": [
  {
   "cell_type": "markdown",
   "metadata": {
    "id": "bb0O0xtk1v9t"
   },
   "source": [
    "## Task 01:\n",
    "\n",
    "Print Your Name with your Father name and Date of birth using suitable escape sequence charactor\n",
    "\n"
   ]
  },
  {
   "cell_type": "code",
   "execution_count": 1,
   "metadata": {
    "id": "U7LLGIkO2Ixa"
   },
   "outputs": [
    {
     "name": "stdout",
     "output_type": "stream",
     "text": [
      "Name: Maham Hamid\n",
      "Father Name: Hamid ALi\n",
      "Date of Birth: 14th August 2003\n"
     ]
    }
   ],
   "source": [
    "# Write your code here\n",
    "print(\"Name: Maham Hamid\\nFather Name: Hamid ALi\\nDate of Birth: 14th August 2003\")\n"
   ]
  },
  {
   "cell_type": "markdown",
   "metadata": {
    "id": "TU-xwiLV2NgB"
   },
   "source": [
    "# Task 02:\n",
    "\n",
    "Write your small bio using variables and print it using print function"
   ]
  },
  {
   "cell_type": "code",
   "execution_count": 7,
   "metadata": {
    "id": "Dw8w3rwl2wDB"
   },
   "outputs": [
    {
     "name": "stdout",
     "output_type": "stream",
     "text": [
      "My name is Maham Hamid Ali and I'm a Computational Finance student at NED University,crrently pursuing a Bachelors Degree.\n",
      "I'm taking this Data science course to enhance my skills and knowledge in the field of data science.\n"
     ]
    }
   ],
   "source": [
    "# Write your code here\n",
    "\n",
    "m_name = \"Maham Hamid Ali\"\n",
    "field = \"Computational Finance\"\n",
    "university = \"NED University\"\n",
    "degree = \"Bachelors Degree\"\n",
    "course = \"Data science\"\n",
    "\n",
    "# Printing My bio\n",
    "print(f\"My name is {m_name} and I'm a {field} student at {university},crrently pursuing a {degree}.\\nI'm taking this {course} course to enhance my skills and knowledge in the field of data science.\")\n"
   ]
  },
  {
   "cell_type": "markdown",
   "metadata": {
    "id": "F2lcZuDe2ztv"
   },
   "source": [
    "# Task 03:\n",
    "\n",
    "Write a program in which use all the operators we can use in Python"
   ]
  },
  {
   "cell_type": "code",
   "execution_count": 1,
   "metadata": {
    "id": "lEJhzsXh3e7K"
   },
   "outputs": [
    {
     "name": "stdin",
     "output_type": "stream",
     "text": [
      "Enter any number:  3\n",
      "Enter another number:  4\n"
     ]
    },
    {
     "name": "stdout",
     "output_type": "stream",
     "text": [
      "Arithmetic Operators:\n",
      "Addition: 7\n",
      "Subtraction: -1\n",
      "Multiplication: 12\n",
      "Division: 0.75\n",
      "Floor Division: 0\n",
      "Modulus: 3\n",
      "Exponentiation: 81\n"
     ]
    }
   ],
   "source": [
    "# Write your code here\n",
    "a = int(input(\"Enter any number: \"))\n",
    "b = int(input(\"Enter another number: \"))\n",
    "print(\"Arithmetic Operators:\")\n",
    "print(\"Addition:\", a + b)\n",
    "print(\"Subtraction:\", a - b)\n",
    "print(\"Multiplication:\", a * b)\n",
    "print(\"Division:\", a / b)\n",
    "print(\"Floor Division:\", a // b)\n",
    "print(\"Modulus:\", a % b)\n",
    "print(\"Exponentiation:\", a ** b)"
   ]
  },
  {
   "cell_type": "markdown",
   "metadata": {
    "id": "i4N14TJU3l7n"
   },
   "source": [
    "# Task 04:\n",
    "\n",
    "\n",
    "1. Mention Marks of English , Islamiat and Maths out of 100 in 3 different variables\n",
    "\n",
    "2. Mention Variable of Total Marks and assign 300 to it\n",
    "\n",
    "3. Calculate Percentage"
   ]
  },
  {
   "cell_type": "code",
   "execution_count": 6,
   "metadata": {
    "id": "nxojzvRg5PP4"
   },
   "outputs": [
    {
     "name": "stdin",
     "output_type": "stream",
     "text": [
      "Enter marks obtained in English:  85\n",
      "Enter marks obtained in Islamiat:  90\n",
      "Enter marks obtained in Maths:  95\n"
     ]
    },
    {
     "name": "stdout",
     "output_type": "stream",
     "text": [
      "Here is your percentage 90.0\n"
     ]
    }
   ],
   "source": [
    "# Write your code here\n",
    "# Taking input for the marks of English, Islamiat, and Maths\n",
    "eng_marks = int(input(\"Enter marks obtained in English: \"))\n",
    "isl_marks = int(input(\"Enter marks obtained in Islamiat: \"))\n",
    "maths_marks = int(input(\"Enter marks obtained in Maths: \"))\n",
    "total_marks = 300\n",
    "# Total marks obtained\n",
    "tot_marks_obt = eng_marks + isl_marks + maths_marks\n",
    "per = ((tot_marks_obt) / (total_marks)) * 100\n",
    "print(\"Here is your percentage\", per)"
   ]
  }
 ],
 "metadata": {
  "colab": {
   "provenance": []
  },
  "kernelspec": {
   "display_name": "Python 3 (ipykernel)",
   "language": "python",
   "name": "python3"
  },
  "language_info": {
   "codemirror_mode": {
    "name": "ipython",
    "version": 3
   },
   "file_extension": ".py",
   "mimetype": "text/x-python",
   "name": "python",
   "nbconvert_exporter": "python",
   "pygments_lexer": "ipython3",
   "version": "3.11.7"
  }
 },
 "nbformat": 4,
 "nbformat_minor": 4
}
