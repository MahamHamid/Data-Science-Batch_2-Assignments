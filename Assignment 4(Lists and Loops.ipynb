{
 "cells": [
  {
   "cell_type": "code",
   "execution_count": 1,
   "id": "8428a8a4-8b14-4756-9c8e-723e29b1988c",
   "metadata": {},
   "outputs": [
    {
     "name": "stdin",
     "output_type": "stream",
     "text": [
      "Enter elements of the list separated by spaces:  1 3 5 7 8 0 5\n"
     ]
    },
    {
     "name": "stdout",
     "output_type": "stream",
     "text": [
      "The original list ['1', '3', '5', '7', '8', '0', '5']\n",
      "alternate elements of the list ['1', '5', '8', '5']\n"
     ]
    }
   ],
   "source": [
    "user_list = input(\"Enter elements of the list separated by spaces: \")\n",
    "list_one = user_list.split()\n",
    "print(\"The original list\",list_one)\n",
    "list_two =[]\n",
    "\n",
    "for i in range(0,len(list_one),2):\n",
    "    list_two.append(list_one[i])\n",
    "print('alternate elements of the list',list_two)\n",
    " "
   ]
  },
  {
   "cell_type": "code",
   "execution_count": 5,
   "id": "c2117332-1c4a-451e-9b85-409c6dd29666",
   "metadata": {},
   "outputs": [
    {
     "name": "stdin",
     "output_type": "stream",
     "text": [
      "Enter a positive integer for :  1 2 3\n"
     ]
    },
    {
     "name": "stdout",
     "output_type": "stream",
     "text": [
      "Reversed list: ['3', '2', '1']\n"
     ]
    }
   ],
   "source": [
    "m = input(\"Enter a positive integer for : \")\n",
    "string = m.split()\n",
    "\n",
    "reversed_list = []\n",
    "\n",
    "for i in range(len(string) - 1, -1, -1):\n",
    "    reversed_list.append(string[i])\n",
    "\n",
    "print(\"Reversed list:\", reversed_list)\n"
   ]
  },
  {
   "cell_type": "code",
   "execution_count": null,
   "id": "16d1c369-d05c-407e-bc9a-e0177733ef4f",
   "metadata": {},
   "outputs": [],
   "source": [
    "user_list = input(\"Enter elements of the list separated by spaces: \")\n",
    "list_one = user_list.split()\n",
    "max_num = int(list_one[0])  \n",
    "\n",
    "for num_str in list_one: \n",
    "    num = int(num_str)  \n",
    "    if num > max_num:\n",
    "        max_num = num\n",
    "print('Maximum number in the list is', max_num)\n"
   ]
  },
  {
   "cell_type": "code",
   "execution_count": null,
   "id": "fbfa1160-c735-4db1-abb1-8dd0ba7b32e2",
   "metadata": {},
   "outputs": [],
   "source": [
    "one_list = input(\"Enter elements of the list separated by spaces: \")\n",
    "my_list = one_list.split()\n",
    "\n",
    "if len(my_list) > 1:\n",
    "    first_element = my_list[0]\n",
    "    for i in range(len(my_list) - 1):\n",
    "        my_list[i] = my_list[i + 1]\n",
    "    my_list[-1] = first_element\n",
    "\n",
    "\n",
    "print(\"Rotated list:\", my_list)\n"
   ]
  },
  {
   "cell_type": "code",
   "execution_count": 10,
   "id": "f6af38c3-f4e9-4513-82e6-391efb0e22fe",
   "metadata": {},
   "outputs": [
    {
     "name": "stdin",
     "output_type": "stream",
     "text": [
      "Enter a positive integer:  hi u are uma\n",
      "Enter a positive integer:  u\n"
     ]
    },
    {
     "name": "stdout",
     "output_type": "stream",
     "text": [
      "hi are uma \n"
     ]
    }
   ],
   "source": [
    "m = input(\"Enter a positive integer: \")\n",
    "n = input(\"Enter a positive integer: \")\n",
    "my_string = \"\"\n",
    "string = m.split()\n",
    "for i in string:\n",
    "    if i == n:\n",
    "        string.remove(n)\n",
    "        break\n",
    "else:\n",
    "    print(f'The word {n} is not present in the sentence')\n",
    "\n",
    "for j in string:\n",
    "    my_string += j + \" \"\n",
    "\n",
    "print(my_string)\n",
    "\n"
   ]
  },
  {
   "cell_type": "code",
   "execution_count": 14,
   "id": "611f7826-8ff3-4435-bcf5-629e8b14ff05",
   "metadata": {},
   "outputs": [
    {
     "name": "stdin",
     "output_type": "stream",
     "text": [
      "Enter a date in the format mm/dd/yyyy:  12/5/2004\n"
     ]
    },
    {
     "name": "stdout",
     "output_type": "stream",
     "text": [
      "December 5 , 2004\n"
     ]
    }
   ],
   "source": [
    "date_string = input(\"Enter a date in the format mm/dd/yyyy: \")\n",
    "\n",
    "month_names = ['January', 'February', 'March', 'April', 'May', 'June', 'July', 'August', 'September', 'October', 'November', 'December']\n",
    "\n",
    "month, day, year = date_string.split('/')\n",
    "\n",
    "month_num = int(month)\n",
    "day_num = int(day)\n",
    "year_num = int(year)\n",
    "\n",
    "month_name = month_names[month_num - 1]\n",
    "print(month_name, day_num, ',', year_num)\n",
    "\n",
    "\n"
   ]
  },
  {
   "cell_type": "code",
   "execution_count": 16,
   "id": "8cb6bbaa-fa45-4003-8ead-f09cd6ed15c7",
   "metadata": {},
   "outputs": [
    {
     "name": "stdin",
     "output_type": "stream",
     "text": [
      "Enter a sentence:  nirfgn ejgjitrh sfjoi\n"
     ]
    },
    {
     "name": "stdout",
     "output_type": "stream",
     "text": [
      "Nirfgn Ejgjitrh Sfjoi \n"
     ]
    }
   ],
   "source": [
    "m = (input(\"Enter a sentence: \"))\n",
    "\n",
    "my_string = \"\"\n",
    "string = m.split()\n",
    "for i in string:\n",
    "    my_string += i.capitalize() + \" \"\n",
    "\n",
    "print(my_string)"
   ]
  },
  {
   "cell_type": "code",
   "execution_count": 17,
   "id": "6c99a711-fa24-49ab-8198-b0db4afd2ba4",
   "metadata": {},
   "outputs": [
    {
     "name": "stdout",
     "output_type": "stream",
     "text": [
      "Sum of[1, 2, 3] row is 6\n",
      "Sum of[4, 5, 6] row is 21\n",
      "Sum of[7, 8, 9] row is 45\n"
     ]
    }
   ],
   "source": [
    "matrix = [\n",
    "    [1, 2, 3],\n",
    "    [4, 5, 6],\n",
    "    [7, 8, 9]\n",
    "]\n",
    "sumi = 0\n",
    "for i in matrix:\n",
    "    for j in i:\n",
    "        sumi += j\n",
    "\n",
    "    print(f'Sum of{i} row is', sumi)"
   ]
  },
  {
   "cell_type": "code",
   "execution_count": 18,
   "id": "0ce4ab16-e784-43e4-89c5-413fe57c958e",
   "metadata": {},
   "outputs": [
    {
     "name": "stdout",
     "output_type": "stream",
     "text": [
      "[[3, 8], [11, 9]]\n"
     ]
    }
   ],
   "source": [
    "\n",
    "matrix = [\n",
    "    [1, 2],\n",
    "    [4, 5]\n",
    "]\n",
    "matrix_two = [\n",
    "    [2, 6],\n",
    "    [7, 4]\n",
    "]\n",
    "m = len(matrix)\n",
    "n = len(matrix_two)\n",
    "\n",
    "new_mmatrix = [\n",
    "    [0, 0],\n",
    "    [0, 0]\n",
    "]\n",
    "\n",
    "for i in range(0, m):\n",
    "    for j in range(0, n):\n",
    "        new_mmatrix[i][j] = matrix[i][j] + matrix_two[i][j]  # Append the sum of corresponding elements\n",
    "\n",
    "print(new_mmatrix)\n"
   ]
  },
  {
   "cell_type": "code",
   "execution_count": 19,
   "id": "90ec4f33-2f1e-4a80-b439-1f96c5541e5f",
   "metadata": {},
   "outputs": [
    {
     "name": "stdout",
     "output_type": "stream",
     "text": [
      "[[14, 8], [35, 20]]\n"
     ]
    }
   ],
   "source": [
    "\n",
    "matrix = [\n",
    "    [1, 2],\n",
    "    [4, 5]\n",
    "]\n",
    "matrix_two = [\n",
    "    [2, 6],\n",
    "    [7, 4]\n",
    "]\n",
    "m = len(matrix)\n",
    "n = len(matrix_two)\n",
    "l = len(matrix_two)\n",
    "\n",
    "new_mmatrix = [\n",
    "    [0, 0],\n",
    "    [0, 0]\n",
    "]\n",
    "\n",
    "for i in range(0, m):\n",
    "    for j in range(0, n):\n",
    "        for k in range(0, l):\n",
    "            new_mmatrix[i][j] = matrix[i][k] * matrix_two[k][j]\n",
    "print(new_mmatrix)\n"
   ]
  },
  {
   "cell_type": "code",
   "execution_count": 21,
   "id": "8a065adf-a696-4f93-b361-e98fd3a4cac7",
   "metadata": {},
   "outputs": [
    {
     "name": "stdout",
     "output_type": "stream",
     "text": [
      "0\n",
      "1\n",
      "2\n",
      "3\n",
      "4\n",
      "5\n",
      "6\n",
      "7\n",
      "8\n",
      "9\n",
      "10\n"
     ]
    }
   ],
   "source": [
    "for i in range(0,11):\n",
    "    print(i)"
   ]
  },
  {
   "cell_type": "code",
   "execution_count": 23,
   "id": "bc6ddfd6-fbdd-4b99-b02f-e6dcb6d4313c",
   "metadata": {},
   "outputs": [
    {
     "name": "stdout",
     "output_type": "stream",
     "text": [
      "20\n",
      "19\n",
      "18\n",
      "17\n",
      "16\n",
      "15\n",
      "14\n",
      "13\n",
      "12\n",
      "11\n",
      "10\n",
      "9\n",
      "8\n",
      "7\n",
      "6\n",
      "5\n",
      "4\n",
      "3\n",
      "2\n",
      "1\n"
     ]
    }
   ],
   "source": [
    "for i in range(20,0,-1):\n",
    "    print(i)\n",
    "  "
   ]
  },
  {
   "cell_type": "code",
   "execution_count": 24,
   "id": "cf8b60be-70da-418c-b835-e6ea94ce537f",
   "metadata": {},
   "outputs": [
    {
     "name": "stdout",
     "output_type": "stream",
     "text": [
      "0\n",
      "2\n",
      "4\n",
      "6\n",
      "8\n",
      "10\n"
     ]
    }
   ],
   "source": [
    "for i in range(0,11,2):\n",
    "    print(i)\n",
    "  "
   ]
  },
  {
   "cell_type": "code",
   "execution_count": null,
   "id": "1b15cebf-dd7d-4200-8e5b-05804e00b2c4",
   "metadata": {},
   "outputs": [],
   "source": [
    "n = int(input(\"Enter a number: \"))\n",
    "for i in range(1, n + 1):\n",
    "    print(i, end=\" \")\n"
   ]
  },
  {
   "cell_type": "code",
   "execution_count": 25,
   "id": "96ca9552-c166-431b-a8ce-506caf8d5253",
   "metadata": {},
   "outputs": [
    {
     "name": "stdin",
     "output_type": "stream",
     "text": [
      "Enter a number:  19\n"
     ]
    },
    {
     "name": "stdout",
     "output_type": "stream",
     "text": [
      "1 3 5 7 9 11 13 15 17 19 "
     ]
    }
   ],
   "source": [
    "n = int(input(\"Enter a number: \"))\n",
    "for i in range(1, n + 1, 2):\n",
    "    print(i, end=\" \")\n"
   ]
  },
  {
   "cell_type": "code",
   "execution_count": 26,
   "id": "8912b448-70e5-4e74-8681-096d9478aff9",
   "metadata": {},
   "outputs": [
    {
     "name": "stdout",
     "output_type": "stream",
     "text": [
      "Happy Birthday!\n",
      "Happy Birthday!\n",
      "Happy Birthday!\n",
      "Happy Birthday!\n",
      "Happy Birthday!\n"
     ]
    }
   ],
   "source": [
    "for i in range(5):\n",
    "    print(\"Happy Birthday!\")\n"
   ]
  },
  {
   "cell_type": "code",
   "execution_count": null,
   "id": "167f4446-6e50-4304-9d00-081b51696755",
   "metadata": {},
   "outputs": [],
   "source": [
    "n = int(input(\"Enter a number: \"))\n",
    "for i in range(1, n + 1):\n",
    "    print(i ** 2, end=\" \")\n"
   ]
  },
  {
   "cell_type": "code",
   "execution_count": 27,
   "id": "2916d713-b499-4990-b726-bdf45962f051",
   "metadata": {},
   "outputs": [
    {
     "name": "stdin",
     "output_type": "stream",
     "text": [
      "Enter a number:  7\n"
     ]
    },
    {
     "name": "stdout",
     "output_type": "stream",
     "text": [
      "Multiplication table of 7\n",
      "7 x 1 = 7\n",
      "7 x 2 = 14\n",
      "7 x 3 = 21\n",
      "7 x 4 = 28\n",
      "7 x 5 = 35\n",
      "7 x 6 = 42\n",
      "7 x 7 = 49\n",
      "7 x 8 = 56\n",
      "7 x 9 = 63\n",
      "7 x 10 = 70\n"
     ]
    }
   ],
   "source": [
    "n = int(input(\"Enter a number: \"))\n",
    "print(\"Multiplication table of\", n)\n",
    "for i in range(1, 11):\n",
    "    print(n, \"x\", i, \"=\", n * i)\n"
   ]
  },
  {
   "cell_type": "code",
   "execution_count": 28,
   "id": "a27eda95-21d6-4af9-b596-411cf9d46252",
   "metadata": {},
   "outputs": [
    {
     "name": "stdout",
     "output_type": "stream",
     "text": [
      "3 7 11 15 19 23 27 31 "
     ]
    }
   ],
   "source": [
    "\n",
    "first_term = 3\n",
    "common_difference = 4\n",
    "num_terms = 8\n",
    "\n",
    "for i in range(num_terms):\n",
    "    print(first_term + i * common_difference, end=\" \")\n"
   ]
  },
  {
   "cell_type": "code",
   "execution_count": 29,
   "id": "37999d1b-6e37-4aa9-950a-ea950ab21bf5",
   "metadata": {},
   "outputs": [
    {
     "name": "stdout",
     "output_type": "stream",
     "text": [
      "2 6 18 54 162 486 "
     ]
    }
   ],
   "source": [
    "\n",
    "first_term = 2\n",
    "common_ratio = 3\n",
    "num_terms = 6\n",
    "\n",
    "current_term = first_term\n",
    "for _ in range(num_terms):\n",
    "    print(current_term, end=\" \")\n",
    "    current_term *= common_ratio\n"
   ]
  },
  {
   "cell_type": "code",
   "execution_count": 33,
   "id": "615e2ec6-27d5-494d-96b7-5cc84926f686",
   "metadata": {},
   "outputs": [
    {
     "name": "stdin",
     "output_type": "stream",
     "text": [
      "Enter a number 5\n"
     ]
    },
    {
     "name": "stdout",
     "output_type": "stream",
     "text": [
      "Here's the sum  15\n"
     ]
    }
   ],
   "source": [
    "n = int(input(\"Enter a number\"))\n",
    "output = 0\n",
    "for i in range(0,n+1):\n",
    "    output += i\n",
    "print(\"Here's the sum \",output)"
   ]
  },
  {
   "cell_type": "code",
   "execution_count": 34,
   "id": "f4534f3b-47fd-4a16-a516-bf7dcec7dd89",
   "metadata": {},
   "outputs": [
    {
     "name": "stdin",
     "output_type": "stream",
     "text": [
      "Enter:  7\n"
     ]
    },
    {
     "name": "stdout",
     "output_type": "stream",
     "text": [
      "2.5928571428571425\n"
     ]
    }
   ],
   "source": [
    "n = int(input(\"Enter: \"))\n",
    "output = 0  \n",
    "for i in range(1, n+1):\n",
    "    n = 1/i\n",
    "    output += n\n",
    "print(output)\n"
   ]
  },
  {
   "cell_type": "code",
   "execution_count": 35,
   "id": "7f0bf1f1-244f-4722-8343-aeb28c02639d",
   "metadata": {},
   "outputs": [
    {
     "name": "stdin",
     "output_type": "stream",
     "text": [
      "Enter a number 1\n",
      "Enter a number 3\n",
      "Enter a number 5\n",
      "Enter a number 7\n",
      "Enter a number 7\n"
     ]
    },
    {
     "name": "stdout",
     "output_type": "stream",
     "text": [
      "Here's the sum of all your number 23\n"
     ]
    }
   ],
   "source": [
    "n = 5\n",
    "output = 0\n",
    "for i in range(0,n):\n",
    "    num = int(input(\"Enter a number\"))\n",
    "    output += num\n",
    "print(\"Here's the sum of all your number\",output)\n"
   ]
  },
  {
   "cell_type": "code",
   "execution_count": 38,
   "id": "79ce7282-90e7-4ee2-8ac3-e52f221202f4",
   "metadata": {},
   "outputs": [
    {
     "name": "stdin",
     "output_type": "stream",
     "text": [
      "Enter a positive integer:  5\n"
     ]
    },
    {
     "name": "stdout",
     "output_type": "stream",
     "text": [
      "the Factorial of 5 is 120\n"
     ]
    }
   ],
   "source": [
    "n = int(input(\"Enter a positive integer: \"))\n",
    "output = 1\n",
    "for i in range(1,n+1):\n",
    "    output *= i\n",
    "print(f'the Factorial of {n} is',output)\n"
   ]
  },
  {
   "cell_type": "code",
   "execution_count": null,
   "id": "3705f2ce-9384-4cd5-a73c-34edf0e476b2",
   "metadata": {},
   "outputs": [
    {
     "name": "stdin",
     "output_type": "stream",
     "text": [
      "Enter a positive integer:  3\n"
     ]
    }
   ],
   "source": [
    "k = 10\n",
    "m = int(input(\"Enter a positive integer: \"))\n",
    "n = int(input(\"Enter an integer exponent: \"))\n",
    "\n",
    "if n >= 0:\n",
    "    output = 1\n",
    "    for i in range(n):\n",
    "        output *= k\n",
    "else:\n",
    "    output = 1\n",
    "    for i in range(-n):\n",
    "        output /= k\n",
    "\n",
    "output *= m\n",
    "print(\"Here's the result:\", output)"
   ]
  }
 ],
 "metadata": {
  "kernelspec": {
   "display_name": "Python 3 (ipykernel)",
   "language": "python",
   "name": "python3"
  },
  "language_info": {
   "codemirror_mode": {
    "name": "ipython",
    "version": 3
   },
   "file_extension": ".py",
   "mimetype": "text/x-python",
   "name": "python",
   "nbconvert_exporter": "python",
   "pygments_lexer": "ipython3",
   "version": "3.11.7"
  }
 },
 "nbformat": 4,
 "nbformat_minor": 5
}
